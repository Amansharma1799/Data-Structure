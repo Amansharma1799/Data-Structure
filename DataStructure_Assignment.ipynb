{
  "nbformat": 4,
  "nbformat_minor": 0,
  "metadata": {
    "colab": {
      "provenance": []
    },
    "kernelspec": {
      "name": "python3",
      "display_name": "Python 3"
    },
    "language_info": {
      "name": "python"
    }
  },
  "cells": [
    {
      "cell_type": "markdown",
      "source": [
        "# ***Theory Questions***"
      ],
      "metadata": {
        "id": "LdF6QJ4Nepz6"
      }
    },
    {
      "cell_type": "markdown",
      "source": [
        "Q1. What are data structures, and why are they important ?\n",
        "- Data structures are ways of organizing and storing data. They are important because they help programs run faster and use memory more efficiently.\n",
        "\n",
        "Q2. Explain the difference between mutable and immutable data types with examples ?\n",
        "- Mutable data types can be changed after they are created, while immutable data types cannot be changed.\n",
        "\n",
        " **Example(mutable) :**\n",
        "\n",
        " my_list = [1, 2, 3] my_list[0] = 10 # Changing the first item my_list.append(4) # Adding a new item\n",
        "\n",
        " **Example(mutable) :**\n",
        "\n",
        " my_list = [1, 2, 3] my_list[0] = 10 # Changing the first item my_list.append(4) # Adding a new item\n",
        "\n",
        " E**xample(Immutable):**\n",
        "\n",
        " my_tuple = (1, 2, 3)\n",
        "\n",
        " **my_tuple[0] = 10 # This would cause an error**\n",
        "\n",
        "Q3. What are the main differences between lists and tuples in Python ?\n",
        "- The main differences between lists and tuples in Python are:\n",
        "\n",
        " Changeability:\n",
        "\n",
        " List: You can change, add, or remove items. Tuple: You cannot change, add, or remove items. Symbols:\n",
        "\n",
        " List: Created with square brackets []. Tuple: Created with round brackets (). Speed:\n",
        "\n",
        " List: Slower because it can be changed. Tuple: Faster because it cannot be changed. When to use:\n",
        "\n",
        " List: Use when you need to change data. Tuple: Use when you don't want the data to change.\n",
        "\n",
        "Q4. Describe how dictionaries store data ?\n",
        "- Dictionaries in Python store data as pairs of keys and values. Each key is unique and is used to look up a corresponding value.\n",
        "\n",
        "Q5. Why might you use a set instead of a list in Python ?\n",
        "- You might use a set instead of a list in Python because:\n",
        "\n",
        " No Duplicates: A set automatically removes duplicate values, while a list can have duplicates. Faster Search: Sets are quicker when checking if an item is in the set. Unordered: Sets don't care about the order of items, so if order doesn’t matter, a set is a good choice.\n",
        "\n",
        "Q6. What is a string in Python, and how is it different from a list ?\n",
        "- A string in Python is a sequence of characters, used to represent text. It is enclosed in either single quotes (') or double quotes (\").\n",
        "\n",
        " A string is for text and cannot be changed. A list can hold various types of data and can be changed.\n",
        "\n",
        "Q7. How do tuples ensure data integrity in Python ?\n",
        "                                                                                                                    \n",
        "- Tuples ensure data integrity in Python because they are immutable, meaning once you create a tuple, you cannot change, add, or remove any of its elements. This makes sure that the data inside a tuple stays the same throughout the program, protecting it from accidental changes.\n",
        "\n",
        "Q8. What is a hash table, and how does it relate to dictionaries in Python ?\n",
        "- A hash table is a data structure that stores key-value pairs and uses a special function (called a hash function) to convert the key into an index where the value is stored. This allows for fast lookups, insertions, and deletions.\n",
        "\n",
        "Q9: Can lists contain different data types in Python ?\n",
        "                                                                                                                                                                                                                                           \n",
        "- Yes, lists in Python can contain different data types. A list can hold a mix of numbers, strings, booleans, or even other lists.\n",
        "\n",
        "Q10. Explain why strings are immutable in Python ?\n",
        "- Strings are immutable in Python because once they are created, their content cannot be changed. This helps make programs faster and safer by preventing accidental changes to the data. If you need to modify a string, Python creates a new string with the changes instead of changing the original one.\n",
        "\n",
        "Q11. What advantages do dictionaries offer over lists for certain tasks ?\n",
        "- Dictionaries offer several advantages over lists for certain tasks:\n",
        "\n",
        " Faster Lookups: You can quickly find a value using a key in a dictionary, while with a list, you have to search through all the items.\n",
        "\n",
        " Key-Value Pairs: Dictionaries store data as key-value pairs, making it easier to organize and access data based on a specific key, unlike lists which just store values in order.\n",
        "\n",
        " No Duplicates for Keys: In a dictionary, each key is unique, so you don't need to worry about duplicate keys, while lists can have duplicate items.\n",
        "\n",
        "Q12. Describe a scenario where using a tuple would be preferable over a list ?\n",
        "                                                                                                                    \n",
        "- A tuple would be better than a list if you need to store data that should not be changed. For example, if you're storing a date (like year, month, day), you don’t want the values to change by accident.\n",
        "\n",
        "Q13. How do sets handle duplicate values in Python ?\n",
        "- Sets automatically remove duplicate values. If you try to add a duplicate value to a set, it will only keep one copy of that value.\n",
        "\n",
        "Q14.How does the “in” keyword work differently for lists and dictionaries ?\n",
        "- The in keyword works differently for lists and dictionaries in Python:\n",
        "\n",
        " For lists: It checks if a value is present in the list. For dictionaries: It checks if a key is present in the dictionary, not the value.\n",
        "\n",
        "Q15. Can you modify the elements of a tuple? Explain why or why not ?\n",
        "- No, you cannot modify the elements of a tuple because tuples are immutable. Once a tuple is created, its values cannot be changed, added, or removed. This is to protect the data from being accidentally changed.\n",
        "\n",
        "Q16. What is a nested dictionary, and give an example of its use case ?\n",
        "- A nested dictionary is a dictionary that contains other dictionaries as values. This allows you to organize data in multiple layers.\n",
        "\n",
        " Example: students = { \"Millan\": {\"age\": 20, \"grades\": [85, 90, 88]}, \"Rex\": {\"age\": 22, \"grades\": [78, 82, 80]}, }\n",
        "\n",
        " Use case: You can access specific information about a student, like Bob's age, by using the student's name as the key, and then the age key inside that student's dictionary.\n",
        "\n",
        " Example: print(students[\"Rex\"][\"age\"])\n",
        "\n",
        "Q17.Describe the time complexity of accessing elements in a dictionary ?\n",
        "- Accessing elements in a dictionary is very fast and has a time complexity of O(1), which means it takes the same amount of time no matter how many items are in the dictionary.\n",
        "\n",
        " This is because dictionaries use a special method (hashing) to find the value quickly using the key.\n",
        "\n",
        "Q18. In what situations are lists preferred over dictionaries ?\n",
        "- Lists are preferred over dictionaries in situations where:\n",
        "\n",
        " Order matters: If you need to keep items in a specific order, use a list.\n",
        "\n",
        " Index-based access: If you need to access items by their position (like the first, second, etc.), lists are better.\n",
        "\n",
        " Storing similar items: If you're storing a collection of similar items (like numbers or names), a list is a good choice.\n",
        "\n",
        "Q19. Why are dictionaries considered unordered, and how does that affect data retrieval ?\n",
        "- Dictionaries are considered unordered because the items (key-value pairs) do not have a specific order. This means the items might not appear in the same order every time you access them.\n",
        "\n",
        " However, this doesn't affect data retrieval. You can still quickly find values by their keys regardless of the order of the items.\n",
        "\n",
        "Q20. Explain the difference between a list and a dictionary in terms of data retrieval ?\n",
        "- The main difference between a list and a dictionary in terms of data retrieval is how you access the data:\n",
        "\n",
        " List: You access elements by their index (position in the list).\n",
        "\n",
        " Dictionary: You access elements by their key, not by position.\n"
      ],
      "metadata": {
        "id": "SA_12uch_MN4"
      }
    },
    {
      "cell_type": "markdown",
      "source": [
        "# ***Pratical Questions:-***"
      ],
      "metadata": {
        "id": "y29tQQXzeXas"
      }
    },
    {
      "cell_type": "code",
      "source": [
        "### Q1. Write a code to create a string with your name and print it ?\n",
        "\n",
        "#Answer:\n",
        "\n",
        "my_name = \"Millan\"\n",
        "print(my_name)"
      ],
      "metadata": {
        "colab": {
          "base_uri": "https://localhost:8080/"
        },
        "id": "Rjg8_Zb_FSjX",
        "outputId": "725eab08-d029-4ed2-fa70-1882ef75d789"
      },
      "execution_count": 1,
      "outputs": [
        {
          "output_type": "stream",
          "name": "stdout",
          "text": [
            "Millan\n"
          ]
        }
      ]
    },
    {
      "cell_type": "code",
      "source": [
        "### Q2. Write a code to find the length of the string \"Hello World\" ?\n",
        "\n",
        "#Answer:\n",
        "\n",
        "my_string = \"Hello World\"\n",
        "length = len(my_string)\n",
        "print(length)"
      ],
      "metadata": {
        "colab": {
          "base_uri": "https://localhost:8080/"
        },
        "id": "kA4qq-VqFbyz",
        "outputId": "06059ddc-292d-4940-ac2e-c03278401136"
      },
      "execution_count": 2,
      "outputs": [
        {
          "output_type": "stream",
          "name": "stdout",
          "text": [
            "11\n"
          ]
        }
      ]
    },
    {
      "cell_type": "code",
      "source": [
        "\n",
        "## Q3. Write a code to slice the first 3 characters from the string \"Python Programming\" ?\n",
        "\n",
        "#Answer:\n",
        "\n",
        "my_string = \"Python Programming\"\n",
        "sliced_string = my_string[:3]\n",
        "print(sliced_string)"
      ],
      "metadata": {
        "colab": {
          "base_uri": "https://localhost:8080/"
        },
        "id": "HqQTAvY-Fmyv",
        "outputId": "386d9e69-afe2-41f3-96c4-6af18c80bb12"
      },
      "execution_count": 3,
      "outputs": [
        {
          "output_type": "stream",
          "name": "stdout",
          "text": [
            "Pyt\n"
          ]
        }
      ]
    },
    {
      "cell_type": "code",
      "source": [
        "### Q4. Write a code to convert the string \"hello\" to uppercase ?\n",
        "\n",
        "# Answer\n",
        "\n",
        "my_string = \"hello\"\n",
        "uppercase_string = my_string.upper()\n",
        "print(uppercase_string)"
      ],
      "metadata": {
        "colab": {
          "base_uri": "https://localhost:8080/"
        },
        "id": "6SHvu5txF32i",
        "outputId": "b927790c-29fc-494d-dc9c-85faa14e8555"
      },
      "execution_count": 4,
      "outputs": [
        {
          "output_type": "stream",
          "name": "stdout",
          "text": [
            "HELLO\n"
          ]
        }
      ]
    },
    {
      "cell_type": "code",
      "source": [
        "### Q5. Write a code to replace the word \"apple\" with \"orange\" in the string \"I like apple\" ?\n",
        "\n",
        "#Answer:\n",
        "\n",
        "my_string = \"I like apple\"\n",
        "new_string = my_string.replace(\"apple\", \"orange\")\n",
        "print(new_string)"
      ],
      "metadata": {
        "colab": {
          "base_uri": "https://localhost:8080/"
        },
        "id": "QHDvejZmI5E-",
        "outputId": "1e9374bd-f26e-4bde-abec-934924610b8b"
      },
      "execution_count": 5,
      "outputs": [
        {
          "output_type": "stream",
          "name": "stdout",
          "text": [
            "I like orange\n"
          ]
        }
      ]
    },
    {
      "cell_type": "code",
      "source": [
        "### Q6. Write a code to create a list with numbers 1 to 5 and print it ?\n",
        "\n",
        "#Answer:\n",
        "\n",
        "my_list = [1, 2, 3, 4, 5]\n",
        "print(my_list)"
      ],
      "metadata": {
        "colab": {
          "base_uri": "https://localhost:8080/"
        },
        "id": "r6EbX4FTc_b_",
        "outputId": "4bb57dcb-199c-4afe-8701-3609ee42edf0"
      },
      "execution_count": 6,
      "outputs": [
        {
          "output_type": "stream",
          "name": "stdout",
          "text": [
            "[1, 2, 3, 4, 5]\n"
          ]
        }
      ]
    },
    {
      "cell_type": "code",
      "source": [
        "### Q7. Write a code to append the number 10 to the list [1, 2, 3, 4] ?\n",
        "#Answer:\n",
        "\n",
        "my_list = [1, 2, 3, 4]\n",
        "my_list.append(10)\n",
        "print(my_list)"
      ],
      "metadata": {
        "colab": {
          "base_uri": "https://localhost:8080/"
        },
        "id": "1mPAw4L5dGRq",
        "outputId": "ef1879e9-b417-4b25-f837-7cbe0cad8d52"
      },
      "execution_count": 7,
      "outputs": [
        {
          "output_type": "stream",
          "name": "stdout",
          "text": [
            "[1, 2, 3, 4, 10]\n"
          ]
        }
      ]
    },
    {
      "cell_type": "code",
      "source": [
        "###Q8. Write a code to remove the number 3 from the list [1, 2, 3, 4, 5]\n",
        "\n",
        "# Answer:\n",
        "\n",
        "my_list = [1, 2, 3, 4, 5]\n",
        "my_list.remove(3)\n",
        "print(my_list)"
      ],
      "metadata": {
        "colab": {
          "base_uri": "https://localhost:8080/"
        },
        "id": "zEDcEy9gdJaN",
        "outputId": "9785a767-0940-4e95-a790-f8bb8d945cd7"
      },
      "execution_count": 8,
      "outputs": [
        {
          "output_type": "stream",
          "name": "stdout",
          "text": [
            "[1, 2, 4, 5]\n"
          ]
        }
      ]
    },
    {
      "cell_type": "code",
      "source": [
        "### Q9. Write a code to access the second element in the list ['a', 'b', 'c', 'd'] ?\n",
        "\n",
        "#Answer:\n",
        "\n",
        "my_list = ['a', 'b', 'c', 'd']\n",
        "second_element = my_list[1]\n",
        "print(second_element)"
      ],
      "metadata": {
        "colab": {
          "base_uri": "https://localhost:8080/"
        },
        "id": "ygiIQ6ogdN_w",
        "outputId": "52ac531b-f27a-4e48-8616-4ee7e85bc277"
      },
      "execution_count": 9,
      "outputs": [
        {
          "output_type": "stream",
          "name": "stdout",
          "text": [
            "b\n"
          ]
        }
      ]
    },
    {
      "cell_type": "code",
      "source": [
        "### Q10. Write a code to reverse the list [10, 20, 30, 40, 50].\n",
        "\n",
        "#Answer:\n",
        "\n",
        "my_list = [10, 20, 30, 40, 50]\n",
        "my_list.reverse()\n",
        "print(my_list)"
      ],
      "metadata": {
        "colab": {
          "base_uri": "https://localhost:8080/"
        },
        "id": "rDhg_rv1dQtp",
        "outputId": "7f8d5388-f9a5-4d2a-eb77-38918faa5ec1"
      },
      "execution_count": 10,
      "outputs": [
        {
          "output_type": "stream",
          "name": "stdout",
          "text": [
            "[50, 40, 30, 20, 10]\n"
          ]
        }
      ]
    },
    {
      "cell_type": "code",
      "source": [
        "### Q11. Write a code to create a tuple with the elements 10, 20, 30 and print it ?\n",
        "\n",
        "# Answer:\n",
        "\n",
        "my_tuple = (10, 20, 30)\n",
        "print(my_tuple)"
      ],
      "metadata": {
        "colab": {
          "base_uri": "https://localhost:8080/"
        },
        "id": "Vp4w5RMldTRJ",
        "outputId": "1cdd864d-5292-4e1e-bdad-524e876c8159"
      },
      "execution_count": 11,
      "outputs": [
        {
          "output_type": "stream",
          "name": "stdout",
          "text": [
            "(10, 20, 30)\n"
          ]
        }
      ]
    },
    {
      "cell_type": "code",
      "source": [
        "### Q12. Write a code to access the first element of the tuple ('apple', 'banana', 'cherry') ?\n",
        "\n",
        "#Answer:\n",
        "\n",
        "my_tuple = ('apple', 'banana', 'cherry')\n",
        "first_element = my_tuple[0]\n",
        "print(first_element)"
      ],
      "metadata": {
        "colab": {
          "base_uri": "https://localhost:8080/"
        },
        "id": "FMcwqSMYdTbU",
        "outputId": "cc57f948-28b9-4e59-d54c-391b95bfcbb6"
      },
      "execution_count": 12,
      "outputs": [
        {
          "output_type": "stream",
          "name": "stdout",
          "text": [
            "apple\n"
          ]
        }
      ]
    },
    {
      "cell_type": "code",
      "source": [
        "### Q13. Write a code to count how many times the number 2 appears in the tuple (1, 2, 3, 2, 4, 2).\n",
        "\n",
        "# Answer:\n",
        "\n",
        "my_tuple = (1, 2, 3, 2, 4, 2)\n",
        "count_of_2 = my_tuple.count(2)\n",
        "print(count_of_2)"
      ],
      "metadata": {
        "colab": {
          "base_uri": "https://localhost:8080/"
        },
        "id": "lqkkJ8z-dTkW",
        "outputId": "1e9f88f8-a235-4ba4-924c-6e495bb13e9d"
      },
      "execution_count": 13,
      "outputs": [
        {
          "output_type": "stream",
          "name": "stdout",
          "text": [
            "3\n"
          ]
        }
      ]
    },
    {
      "cell_type": "code",
      "source": [
        "### Q14. Write a code to find the index of the element \"cat\" in the tuple ('dog', 'cat', 'rabbit').\n",
        "\n",
        "#Answer:\n",
        "\n",
        "my_tuple = ('dog', 'cat', 'rabbit')\n",
        "index_of_cat = my_tuple.index('cat')\n",
        "print(index_of_cat)"
      ],
      "metadata": {
        "colab": {
          "base_uri": "https://localhost:8080/"
        },
        "id": "IcfuXqvydTvG",
        "outputId": "ba6343ad-a7ac-4e7e-bc34-ad654e66af66"
      },
      "execution_count": 15,
      "outputs": [
        {
          "output_type": "stream",
          "name": "stdout",
          "text": [
            "1\n"
          ]
        }
      ]
    },
    {
      "cell_type": "code",
      "source": [
        "### Q15.  Write a code to check if the element \"banana\" is in the tuple ('apple', 'orange', 'banana').\n",
        "\n",
        "#Answer:\n",
        "my_tuple = ('apple', 'orange', 'banana')\n",
        "is_banana_in_tuple = 'banana' in my_tuple\n",
        "print(is_banana_in_tuple)"
      ],
      "metadata": {
        "colab": {
          "base_uri": "https://localhost:8080/"
        },
        "id": "nxS3r18TdcXL",
        "outputId": "8e76fc4a-d6dc-430a-a672-361f17344cfe"
      },
      "execution_count": 14,
      "outputs": [
        {
          "output_type": "stream",
          "name": "stdout",
          "text": [
            "True\n"
          ]
        }
      ]
    },
    {
      "cell_type": "code",
      "source": [
        "### Q16. Write a code to create a set with the elements 1, 2, 3, 4, 5 and print it.\n",
        "\n",
        "#Answer:\n",
        "\n",
        "my_set = {1, 2, 3, 4, 5}\n",
        "print(my_set)"
      ],
      "metadata": {
        "colab": {
          "base_uri": "https://localhost:8080/"
        },
        "id": "4AvbYl7ydgh2",
        "outputId": "14ebdc63-86cc-401c-f860-a00ac4df762d"
      },
      "execution_count": 17,
      "outputs": [
        {
          "output_type": "stream",
          "name": "stdout",
          "text": [
            "{1, 2, 3, 4, 5}\n"
          ]
        }
      ]
    },
    {
      "cell_type": "code",
      "source": [
        "### Q17:  Write a code to add the element 6 to the set {1, 2, 3, 4}.\n",
        "\n",
        "#Answer:\n",
        "my_set = {1, 2, 3, 4}\n",
        "my_set.add(6)\n",
        "print(my_set)"
      ],
      "metadata": {
        "colab": {
          "base_uri": "https://localhost:8080/"
        },
        "id": "k3MIpNiNdg0B",
        "outputId": "c41d1674-54d7-4349-f858-f6f33ef20613"
      },
      "execution_count": 16,
      "outputs": [
        {
          "output_type": "stream",
          "name": "stdout",
          "text": [
            "{1, 2, 3, 4, 6}\n"
          ]
        }
      ]
    },
    {
      "cell_type": "code",
      "source": [
        "### Q18: Write a code to create a tuple with the elements 10, 20, 30 and print it.\n",
        "\n",
        "# Answer:\n",
        "my_tuple = (10, 20, 30)\n",
        "print(my_tuple)"
      ],
      "metadata": {
        "colab": {
          "base_uri": "https://localhost:8080/"
        },
        "id": "eWMxlgKjdg2_",
        "outputId": "76e6b74b-4b96-4993-9def-0fea89fb371b"
      },
      "execution_count": 19,
      "outputs": [
        {
          "output_type": "stream",
          "name": "stdout",
          "text": [
            "(10, 20, 30)\n"
          ]
        }
      ]
    },
    {
      "cell_type": "code",
      "source": [
        "### Q19: Write a code to access the first element of the tuple ('apple', 'banana', 'cherry').\n",
        "\n",
        "#Answer:\n",
        "\n",
        "my_tuple = ('apple', 'banana', 'cherry')\n",
        "first_element = my_tuple[0]\n",
        "print(first_element)"
      ],
      "metadata": {
        "colab": {
          "base_uri": "https://localhost:8080/"
        },
        "id": "ED4DWFNddg89",
        "outputId": "87cace9b-4a63-4858-a9bb-b9d4b4efe888"
      },
      "execution_count": 18,
      "outputs": [
        {
          "output_type": "stream",
          "name": "stdout",
          "text": [
            "apple\n"
          ]
        }
      ]
    },
    {
      "cell_type": "code",
      "source": [
        "### Q20: Write a code to count how many times the number 2 appears in the tuple (1, 2, 3, 2, 4, 2).\n",
        "\n",
        "#Answer:\n",
        "\n",
        "my_tuple = (1, 2, 3, 2, 4, 2)\n",
        "count_of_2 = my_tuple.count(2)\n",
        "print(count_of_2)"
      ],
      "metadata": {
        "colab": {
          "base_uri": "https://localhost:8080/"
        },
        "id": "56MDS4LSdg_m",
        "outputId": "27c60ada-fa96-4b37-f1e8-436d197c6f16"
      },
      "execution_count": 20,
      "outputs": [
        {
          "output_type": "stream",
          "name": "stdout",
          "text": [
            "3\n"
          ]
        }
      ]
    },
    {
      "cell_type": "code",
      "source": [
        "### Q21: Write a code to find the index of the element \"cat\" in the tuple ('dog', 'cat', 'rabbit').\n",
        "\n",
        "#Answer:\n",
        "my_tuple = ('dog', 'cat', 'rabbit')\n",
        "index_of_cat = my_tuple.index('cat')\n",
        "print(index_of_cat)"
      ],
      "metadata": {
        "colab": {
          "base_uri": "https://localhost:8080/"
        },
        "id": "NDLWDE0rdhCW",
        "outputId": "59ebbfd1-3952-4f1d-8277-54f6c547140c"
      },
      "execution_count": 21,
      "outputs": [
        {
          "output_type": "stream",
          "name": "stdout",
          "text": [
            "1\n"
          ]
        }
      ]
    },
    {
      "cell_type": "code",
      "source": [
        "### Q22: Write a code to check if the element \"banana\" is in the tuple ('apple', 'orange', 'banana').\n",
        "\n",
        "#Answer:\n",
        "my_tuple = ('apple', 'orange', 'banana')\n",
        "is_banana_in_tuple = 'banana' in my_tuple\n",
        "print(is_banana_in_tuple)"
      ],
      "metadata": {
        "colab": {
          "base_uri": "https://localhost:8080/"
        },
        "id": "0Fd7RyKid_JB",
        "outputId": "4b707782-db32-43a0-9256-15f3ca2f886e"
      },
      "execution_count": 22,
      "outputs": [
        {
          "output_type": "stream",
          "name": "stdout",
          "text": [
            "True\n"
          ]
        }
      ]
    },
    {
      "cell_type": "code",
      "source": [
        "### Q23: Write a code to create a set with the elements 1, 2, 3, 4, 5 and print it.\n",
        "\n",
        "#Answer:\n",
        "my_set = {1, 2, 3, 4, 5}\n",
        "print(my_set)"
      ],
      "metadata": {
        "colab": {
          "base_uri": "https://localhost:8080/"
        },
        "id": "cO-QldS6d_Oc",
        "outputId": "a093cb6c-a935-4998-e9a9-08d2f280c929"
      },
      "execution_count": 23,
      "outputs": [
        {
          "output_type": "stream",
          "name": "stdout",
          "text": [
            "{1, 2, 3, 4, 5}\n"
          ]
        }
      ]
    },
    {
      "cell_type": "code",
      "source": [
        "### Q24: Write a code to add the element 6 to the set {1, 2, 3, 4}.\n",
        "\n",
        "#Answer:\n",
        "my_set = {1, 2, 3, 4}\n",
        "my_set.add(6)\n",
        "print(my_set)"
      ],
      "metadata": {
        "colab": {
          "base_uri": "https://localhost:8080/"
        },
        "id": "ze0h1dond_RY",
        "outputId": "d5fc0e82-4249-4580-96a1-8477ab33aeeb"
      },
      "execution_count": 24,
      "outputs": [
        {
          "output_type": "stream",
          "name": "stdout",
          "text": [
            "{1, 2, 3, 4, 6}\n"
          ]
        }
      ]
    },
    {
      "cell_type": "code",
      "source": [],
      "metadata": {
        "id": "EMWpM7R8d_Uw"
      },
      "execution_count": null,
      "outputs": []
    },
    {
      "cell_type": "code",
      "source": [],
      "metadata": {
        "id": "I_5WJHAld_kN"
      },
      "execution_count": null,
      "outputs": []
    },
    {
      "cell_type": "code",
      "source": [],
      "metadata": {
        "id": "lFgb66tld_nK"
      },
      "execution_count": null,
      "outputs": []
    }
  ]
}